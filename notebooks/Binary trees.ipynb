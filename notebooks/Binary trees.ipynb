{
 "cells": [
  {
   "cell_type": "code",
   "execution_count": 5,
   "id": "475c4d95",
   "metadata": {},
   "outputs": [],
   "source": [
    "from AlgoPack import BNode, Tree"
   ]
  },
  {
   "cell_type": "code",
   "execution_count": 6,
   "id": "dcafb388",
   "metadata": {},
   "outputs": [],
   "source": [
    "tree = Tree(\"apple\")\n",
    "tree.get_root().set_left_child(\"banana\")\n",
    "tree.get_root().set_right_child(\"cherry\")\n",
    "tree.get_root().get_left_child().set_left_child(\"dates\")"
   ]
  },
  {
   "cell_type": "markdown",
   "id": "4b877731",
   "metadata": {},
   "source": [
    "## pre-order traversal using a stack that tracks state\n"
   ]
  },
  {
   "cell_type": "code",
   "execution_count": 7,
   "id": "2c10d511",
   "metadata": {},
   "outputs": [],
   "source": [
    "# Stack to help keep track of the tree nodes\n",
    "class Stack():\n",
    "    def __init__(self):\n",
    "        self.list = list()\n",
    "        \n",
    "    def push(self,value):\n",
    "        self.list.append(value)\n",
    "        \n",
    "    def pop(self):\n",
    "        return self.list.pop()\n",
    "        \n",
    "    def top(self):\n",
    "        if len(self.list) > 0:\n",
    "            return self.list[-1]\n",
    "        else:\n",
    "            return None\n",
    "        \n",
    "    def is_empty(self):\n",
    "        return len(self.list) == 0\n",
    "    \n",
    "    def __repr__(self):\n",
    "        if len(self.list) > 0:\n",
    "            s = \"<top of stack>\\n_________________\\n\"\n",
    "            s += \"\\n_________________\\n\".join([str(item) for item in self.list[::-1]])\n",
    "            s += \"\\n_________________\\n<bottom of stack>\"\n",
    "            return s\n",
    "        \n",
    "        else:\n",
    "            return \"<stack is empty>\""
   ]
  },
  {
   "cell_type": "code",
   "execution_count": 8,
   "id": "2f052fa0",
   "metadata": {},
   "outputs": [],
   "source": [
    "class State(object):\n",
    "    def __init__(self,node):\n",
    "        self.node = node\n",
    "        self.visited_left = False\n",
    "        self.visited_right = False\n",
    "        \n",
    "    def get_node(self):\n",
    "        return self.node\n",
    "    \n",
    "    def get_visited_left(self):\n",
    "        return self.visited_left\n",
    "    \n",
    "    def get_visited_right(self):\n",
    "        return self.visited_right\n",
    "    \n",
    "    def set_visited_left(self):\n",
    "        self.visited_left = True\n",
    "        \n",
    "    def set_visited_right(self):\n",
    "        self.visited_right = True\n",
    "        \n",
    "    def __repr__(self):\n",
    "        s = f\"\"\"{self.node}\n",
    "visited_left: {self.visited_left}\n",
    "visited_right: {self.visited_right}\n",
    "        \"\"\"\n",
    "        return s"
   ]
  },
  {
   "cell_type": "code",
   "execution_count": 14,
   "id": "81f6fb70",
   "metadata": {},
   "outputs": [],
   "source": [
    "def pre_order_with_stack(tree, debug_mode=False):\n",
    "    visit_order = list()\n",
    "    stack = Stack()\n",
    "    node = tree.get_root()\n",
    "    visit_order.append(node.get_value())\n",
    "    state = State(node)\n",
    "    stack.push(state)\n",
    "    count = 0\n",
    "    while(node):\n",
    "        if debug_mode:\n",
    "            print(f\"\"\"\n",
    "loop count: {count}\n",
    "current node: {node}\n",
    "stack:\n",
    "{stack}\n",
    "            \"\"\")\n",
    "        \n",
    "        count +=1\n",
    "        if node.has_left_child() and not state.get_visited_left():\n",
    "            state.set_visited_left()\n",
    "            node = node.get_left_child()\n",
    "            visit_order.append(node.get_value())\n",
    "            state = State(node)\n",
    "            stack.push(state)\n",
    "\n",
    "        elif node.has_right_child() and not state.get_visited_right():\n",
    "            state.set_visited_right()\n",
    "            node = node.get_right_child()\n",
    "            visit_order.append(node.get_value())\n",
    "            state = State(node)\n",
    "\n",
    "        else:\n",
    "            stack.pop()\n",
    "            if not stack.is_empty():\n",
    "                state = stack.top()\n",
    "                node = state.get_node()\n",
    "            else:\n",
    "                node = None\n",
    "            \n",
    "    if debug_mode:\n",
    "            print(f\"\"\"\n",
    "loop count: {count}\n",
    "current node: {node}\n",
    "stack:\n",
    "{stack}\n",
    "            \"\"\")\n",
    "    return visit_order"
   ]
  },
  {
   "cell_type": "code",
   "execution_count": 15,
   "id": "d9eefdd8",
   "metadata": {},
   "outputs": [
    {
     "data": {
      "text/plain": [
       "['apple', 'banana', 'dates', 'cherry']"
      ]
     },
     "execution_count": 15,
     "metadata": {},
     "output_type": "execute_result"
    }
   ],
   "source": [
    "pre_order_with_stack(tree, debug_mode=False)"
   ]
  },
  {
   "cell_type": "markdown",
   "id": "edaa91a5",
   "metadata": {},
   "source": [
    "## pre-order traversal with recursion\n"
   ]
  },
  {
   "cell_type": "code",
   "execution_count": 21,
   "id": "c120fbe9",
   "metadata": {},
   "outputs": [],
   "source": [
    "def pre_order(tree):\n",
    "    \n",
    "    visit_order = list()\n",
    "    \n",
    "    def traverse(node):\n",
    "        if node:\n",
    "            # visit the node\n",
    "            visit_order.append(node.get_value())\n",
    "            \n",
    "            # traverse left subtree\n",
    "            traverse(node.get_left_child())\n",
    "            \n",
    "            # traverse right subtree\n",
    "            traverse(node.get_right_child())\n",
    "    \n",
    "    traverse(tree.get_root())\n",
    "    \n",
    "    return visit_order"
   ]
  },
  {
   "cell_type": "code",
   "execution_count": 22,
   "id": "86ee7a61",
   "metadata": {},
   "outputs": [
    {
     "data": {
      "text/plain": [
       "['apple', 'banana', 'dates', 'cherry']"
      ]
     },
     "execution_count": 22,
     "metadata": {},
     "output_type": "execute_result"
    }
   ],
   "source": [
    "pre_order(tree)"
   ]
  },
  {
   "cell_type": "markdown",
   "id": "78df8b8b",
   "metadata": {},
   "source": [
    "## in-order traversal"
   ]
  },
  {
   "cell_type": "code",
   "execution_count": 23,
   "id": "e434cf1a",
   "metadata": {},
   "outputs": [],
   "source": [
    "def in_order(tree):\n",
    "    \n",
    "    visit_order = list()\n",
    "    \n",
    "    def traverse(node):\n",
    "        if node:\n",
    "            # traverse left subtree\n",
    "            traverse(node.get_left_child())\n",
    "            \n",
    "            # visit node\n",
    "            visit_order.append(node.get_value())\n",
    "            \n",
    "            # traverse right sub-tree\n",
    "            traverse(node.get_right_child())\n",
    "    \n",
    "    traverse(tree.get_root())\n",
    "    \n",
    "    return visit_order"
   ]
  },
  {
   "cell_type": "code",
   "execution_count": 24,
   "id": "1869f299",
   "metadata": {},
   "outputs": [
    {
     "data": {
      "text/plain": [
       "['dates', 'banana', 'apple', 'cherry']"
      ]
     },
     "execution_count": 24,
     "metadata": {},
     "output_type": "execute_result"
    }
   ],
   "source": [
    "in_order(tree)"
   ]
  },
  {
   "cell_type": "markdown",
   "id": "f5490994",
   "metadata": {},
   "source": [
    "##  post-order traversal\n"
   ]
  },
  {
   "cell_type": "code",
   "execution_count": 25,
   "id": "1998febc",
   "metadata": {},
   "outputs": [],
   "source": [
    "def post_order(tree):\n",
    "    \n",
    "    visit_order = list()\n",
    "    \n",
    "    def traverse(node):\n",
    "        if node:\n",
    "            # traverse left subtree\n",
    "            traverse(node.get_left_child())\n",
    "            \n",
    "            # traverse right subtree\n",
    "            traverse(node.get_right_child())\n",
    "            \n",
    "            # visit node\n",
    "            visit_order.append(node.get_value())\n",
    "    \n",
    "    traverse(tree.get_root())\n",
    "    \n",
    "    return visit_order"
   ]
  },
  {
   "cell_type": "code",
   "execution_count": 26,
   "id": "726db55b",
   "metadata": {},
   "outputs": [
    {
     "data": {
      "text/plain": [
       "['dates', 'banana', 'cherry', 'apple']"
      ]
     },
     "execution_count": 26,
     "metadata": {},
     "output_type": "execute_result"
    }
   ],
   "source": [
    "post_order(tree)"
   ]
  },
  {
   "cell_type": "code",
   "execution_count": null,
   "id": "3fdf2b41",
   "metadata": {},
   "outputs": [],
   "source": []
  }
 ],
 "metadata": {
  "kernelspec": {
   "display_name": "snakes_kernel",
   "language": "python",
   "name": "snakes_kernel"
  },
  "language_info": {
   "codemirror_mode": {
    "name": "ipython",
    "version": 3
   },
   "file_extension": ".py",
   "mimetype": "text/x-python",
   "name": "python",
   "nbconvert_exporter": "python",
   "pygments_lexer": "ipython3",
   "version": "3.9.13"
  }
 },
 "nbformat": 4,
 "nbformat_minor": 5
}
