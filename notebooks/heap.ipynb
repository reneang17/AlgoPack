{
 "cells": [
  {
   "cell_type": "code",
   "execution_count": 19,
   "id": "368134df",
   "metadata": {},
   "outputs": [],
   "source": [
    "from heapq import heapify, heappop, heappush\n",
    "class Solution(object):\n",
    "    def numSquares(self, n):\n",
    "        if n == 0:\n",
    "            return 0\n",
    "        queue = [(0, n)]\n",
    "        heapify(queue)\n",
    "        squares = set()\n",
    "        for i in range(1, int(n ** 0.5) + 1):\n",
    "            if i ** 2 <= n:\n",
    "                squares.add(i * i)\n",
    "        while queue:\n",
    "            print(queue)\n",
    "            x, y = heappop(queue)\n",
    "            print(x,y)\n",
    "            if y in squares:\n",
    "                return x + 1\n",
    "            for i in squares:\n",
    "                if i <= y:\n",
    "                    queue.append((x + 1, y - i))"
   ]
  },
  {
   "cell_type": "code",
   "execution_count": 20,
   "id": "352e159f",
   "metadata": {},
   "outputs": [],
   "source": [
    "sol = Solution()"
   ]
  },
  {
   "cell_type": "code",
   "execution_count": 25,
   "id": "7868abe1",
   "metadata": {},
   "outputs": [
    {
     "name": "stdout",
     "output_type": "stream",
     "text": [
      "[(0, 15)]\n",
      "0 15\n",
      "[(1, 14), (1, 11), (1, 6)]\n",
      "1 14\n",
      "[(1, 6), (1, 11), (2, 13), (2, 10), (2, 5)]\n",
      "1 6\n",
      "[(1, 11), (2, 5), (2, 13), (2, 10), (2, 5), (2, 2)]\n",
      "1 11\n",
      "[(2, 2), (2, 5), (2, 13), (2, 10), (2, 5), (2, 10), (2, 7), (2, 2)]\n",
      "2 2\n",
      "[(2, 2), (2, 5), (2, 13), (2, 10), (2, 5), (2, 10), (2, 7), (3, 1)]\n",
      "2 2\n",
      "[(2, 5), (2, 5), (2, 13), (2, 10), (3, 1), (2, 10), (2, 7), (3, 1)]\n",
      "2 5\n",
      "[(2, 5), (2, 10), (2, 13), (3, 1), (3, 1), (2, 10), (2, 7), (3, 4), (3, 1)]\n",
      "2 5\n",
      "[(2, 10), (3, 1), (2, 13), (3, 1), (3, 1), (2, 10), (2, 7), (3, 4), (3, 4), (3, 1)]\n",
      "2 10\n",
      "[(2, 13), (3, 1), (2, 7), (3, 1), (3, 1), (2, 10), (3, 1), (3, 4), (3, 4), (3, 9), (3, 6), (3, 1)]\n",
      "2 13\n",
      "[(2, 7), (3, 1), (2, 10), (3, 1), (3, 1), (3, 1), (3, 1), (3, 4), (3, 4), (3, 9), (3, 6), (3, 12), (3, 9), (3, 4)]\n",
      "2 7\n",
      "[(2, 10), (3, 1), (3, 1), (3, 1), (3, 1), (3, 1), (3, 4), (3, 4), (3, 4), (3, 9), (3, 6), (3, 12), (3, 9), (3, 6), (3, 3)]\n",
      "2 10\n",
      "[(3, 1), (3, 1), (3, 1), (3, 1), (3, 1), (3, 3), (3, 4), (3, 4), (3, 4), (3, 9), (3, 6), (3, 12), (3, 9), (3, 6), (3, 9), (3, 6), (3, 1)]\n",
      "3 1\n"
     ]
    },
    {
     "data": {
      "text/plain": [
       "4"
      ]
     },
     "execution_count": 25,
     "metadata": {},
     "output_type": "execute_result"
    }
   ],
   "source": [
    "sol.numSquares(15)"
   ]
  },
  {
   "cell_type": "code",
   "execution_count": null,
   "id": "f401557b",
   "metadata": {},
   "outputs": [],
   "source": []
  }
 ],
 "metadata": {
  "kernelspec": {
   "display_name": "snakes_kernel",
   "language": "python",
   "name": "snakes_kernel"
  },
  "language_info": {
   "codemirror_mode": {
    "name": "ipython",
    "version": 3
   },
   "file_extension": ".py",
   "mimetype": "text/x-python",
   "name": "python",
   "nbconvert_exporter": "python",
   "pygments_lexer": "ipython3",
   "version": "3.9.13"
  }
 },
 "nbformat": 4,
 "nbformat_minor": 5
}
